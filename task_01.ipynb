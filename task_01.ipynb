{
 "cells": [
  {
   "cell_type": "code",
   "execution_count": 10,
   "id": "52420643-0701-4af3-86af-8399dcab2c91",
   "metadata": {},
   "outputs": [
    {
     "data": {
      "text/html": [
       "<div>\n",
       "<style scoped>\n",
       "    .dataframe tbody tr th:only-of-type {\n",
       "        vertical-align: middle;\n",
       "    }\n",
       "\n",
       "    .dataframe tbody tr th {\n",
       "        vertical-align: top;\n",
       "    }\n",
       "\n",
       "    .dataframe thead th {\n",
       "        text-align: right;\n",
       "    }\n",
       "</style>\n",
       "<table border=\"1\" class=\"dataframe\">\n",
       "  <thead>\n",
       "    <tr style=\"text-align: right;\">\n",
       "      <th></th>\n",
       "      <th>GRE Score</th>\n",
       "      <th>TOEFL Score</th>\n",
       "      <th>University Rating</th>\n",
       "      <th>SOP</th>\n",
       "      <th>LOR</th>\n",
       "      <th>CGPA</th>\n",
       "      <th>Research</th>\n",
       "      <th>Chance of Admit</th>\n",
       "    </tr>\n",
       "  </thead>\n",
       "  <tbody>\n",
       "    <tr>\n",
       "      <th>0</th>\n",
       "      <td>337</td>\n",
       "      <td>118</td>\n",
       "      <td>4</td>\n",
       "      <td>4.5</td>\n",
       "      <td>4.5</td>\n",
       "      <td>9.65</td>\n",
       "      <td>1</td>\n",
       "      <td>0.92</td>\n",
       "    </tr>\n",
       "    <tr>\n",
       "      <th>1</th>\n",
       "      <td>324</td>\n",
       "      <td>107</td>\n",
       "      <td>4</td>\n",
       "      <td>4.0</td>\n",
       "      <td>4.5</td>\n",
       "      <td>8.87</td>\n",
       "      <td>1</td>\n",
       "      <td>0.76</td>\n",
       "    </tr>\n",
       "    <tr>\n",
       "      <th>2</th>\n",
       "      <td>316</td>\n",
       "      <td>104</td>\n",
       "      <td>3</td>\n",
       "      <td>3.0</td>\n",
       "      <td>3.5</td>\n",
       "      <td>8.00</td>\n",
       "      <td>1</td>\n",
       "      <td>0.72</td>\n",
       "    </tr>\n",
       "    <tr>\n",
       "      <th>3</th>\n",
       "      <td>322</td>\n",
       "      <td>110</td>\n",
       "      <td>3</td>\n",
       "      <td>3.5</td>\n",
       "      <td>2.5</td>\n",
       "      <td>8.67</td>\n",
       "      <td>1</td>\n",
       "      <td>0.80</td>\n",
       "    </tr>\n",
       "    <tr>\n",
       "      <th>4</th>\n",
       "      <td>314</td>\n",
       "      <td>103</td>\n",
       "      <td>2</td>\n",
       "      <td>2.0</td>\n",
       "      <td>3.0</td>\n",
       "      <td>8.21</td>\n",
       "      <td>0</td>\n",
       "      <td>0.65</td>\n",
       "    </tr>\n",
       "  </tbody>\n",
       "</table>\n",
       "</div>"
      ],
      "text/plain": [
       "   GRE Score  TOEFL Score  University Rating  SOP  LOR   CGPA  Research  \\\n",
       "0        337          118                  4  4.5   4.5  9.65         1   \n",
       "1        324          107                  4  4.0   4.5  8.87         1   \n",
       "2        316          104                  3  3.0   3.5  8.00         1   \n",
       "3        322          110                  3  3.5   2.5  8.67         1   \n",
       "4        314          103                  2  2.0   3.0  8.21         0   \n",
       "\n",
       "   Chance of Admit   \n",
       "0              0.92  \n",
       "1              0.76  \n",
       "2              0.72  \n",
       "3              0.80  \n",
       "4              0.65  "
      ]
     },
     "execution_count": 10,
     "metadata": {},
     "output_type": "execute_result"
    }
   ],
   "source": [
    "file_path = r\"Admission_Predict.csv \"  \n",
    "df = pd.read_csv(file_path)\n",
    "df.head()\n",
    "#print(df.head())\n",
    "#df.info()-------------used for the information of data, e.g, how many entities in data.\n"
   ]
  },
  {
   "cell_type": "code",
   "execution_count": 11,
   "id": "0e699fe1-44c0-4533-9ab0-fd80fb53f63e",
   "metadata": {},
   "outputs": [
    {
     "name": "stdout",
     "output_type": "stream",
     "text": [
      "Index(['GRE Score', 'TOEFL Score', 'University Rating', 'SOP', 'LOR ', 'CGPA',\n",
      "       'Research', 'Chance of Admit '],\n",
      "      dtype='object')\n",
      "        GRE Score  TOEFL Score  University Rating         SOP        LOR   \\\n",
      "count  400.000000   400.000000         400.000000  400.000000  400.000000   \n",
      "mean   316.807500   107.410000           3.087500    3.400000    3.452500   \n",
      "std     11.473646     6.069514           1.143728    1.006869    0.898478   \n",
      "min    290.000000    92.000000           1.000000    1.000000    1.000000   \n",
      "25%    308.000000   103.000000           2.000000    2.500000    3.000000   \n",
      "50%    317.000000   107.000000           3.000000    3.500000    3.500000   \n",
      "75%    325.000000   112.000000           4.000000    4.000000    4.000000   \n",
      "max    340.000000   120.000000           5.000000    5.000000    5.000000   \n",
      "\n",
      "             CGPA    Research  Chance of Admit   \n",
      "count  400.000000  400.000000        400.000000  \n",
      "mean     8.598925    0.547500          0.724350  \n",
      "std      0.596317    0.498362          0.142609  \n",
      "min      6.800000    0.000000          0.340000  \n",
      "25%      8.170000    0.000000          0.640000  \n",
      "50%      8.610000    1.000000          0.730000  \n",
      "75%      9.062500    1.000000          0.830000  \n",
      "max      9.920000    1.000000          0.970000  \n",
      "GRE Score            0\n",
      "TOEFL Score          0\n",
      "University Rating    0\n",
      "SOP                  0\n",
      "LOR                  0\n",
      "CGPA                 0\n",
      "Research             0\n",
      "Chance of Admit      0\n",
      "dtype: int64\n"
     ]
    }
   ],
   "source": [
    "# Get column names\n",
    "print(df.columns)\n",
    "\n",
    "# Summary statistics\n",
    "print(df.describe())\n",
    "\n",
    "# Check for missing values\n",
    "print(df.isnull().sum())\n"
   ]
  },
  {
   "cell_type": "code",
   "execution_count": 12,
   "id": "ecb66182-ebd7-49de-a08d-f03fd293a76e",
   "metadata": {},
   "outputs": [
    {
     "name": "stdout",
     "output_type": "stream",
     "text": [
      "   GRE Score  TOEFL Score  Chance of Admit \n",
      "0        337          118              0.92\n",
      "1        324          107              0.76\n",
      "2        316          104              0.72\n",
      "3        322          110              0.80\n",
      "4        314          103              0.65\n"
     ]
    }
   ],
   "source": [
    "custom_df = df[[\"GRE Score\", \"TOEFL Score\", \"Chance of Admit \"]]\n",
    "print(custom_df.head())\n"
   ]
  },
  {
   "cell_type": "code",
   "execution_count": 13,
   "id": "cb46e755-e872-4e49-83e6-eaf0c696ae0d",
   "metadata": {},
   "outputs": [],
   "source": [
    "custom_df.to_csv(\"custom_dataset.csv\", index=False)\n"
   ]
  },
  {
   "cell_type": "code",
   "execution_count": 14,
   "id": "a5122b89-f4d0-4c9e-b636-78a883489e62",
   "metadata": {},
   "outputs": [
    {
     "data": {
      "image/png": "[encoded data removed]",
      "text/plain": [
       "<Figure size 640x480 with 1 Axes>"
      ]
     },
     "metadata": {},
     "output_type": "display_data"
    }
   ],
   "source": [
    "import matplotlib.pyplot as plt\n",
    "\n",
    "# GRE vs Chance of Admit\n",
    "plt.scatter(df[\"GRE Score\"], df[\"Chance of Admit \"])\n",
    "plt.xlabel(\"GRE Score\")\n",
    "plt.ylabel(\"Chance of Admit\")\n",
    "plt.title(\"GRE Score vs Chance of Admit\")\n",
    "plt.show()\n"
   ]
  },
  {
   "cell_type": "code",
   "execution_count": null,
   "id": "cc3dcd61-2a04-4856-a9af-533f7a60e308",
   "metadata": {},
   "outputs": [],
   "source": []
  }
 ],
 "metadata": {
  "kernelspec": {
   "display_name": "Python 3 (ipykernel)",
   "language": "python",
   "name": "python3"
  },
  "language_info": {
   "codemirror_mode": {
    "name": "ipython",
    "version": 3
   },
   "file_extension": ".py",
   "mimetype": "text/x-python",
   "name": "python",
   "nbconvert_exporter": "python",
   "pygments_lexer": "ipython3",
   "version": "3.12.4"
  }
 },
 "nbformat": 4,
 "nbformat_minor": 5
}
